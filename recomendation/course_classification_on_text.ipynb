{
 "cells": [
  {
   "cell_type": "code",
   "execution_count": 1,
   "metadata": {},
   "outputs": [
    {
     "name": "stderr",
     "output_type": "stream",
     "text": [
      "WARNING: You are using pip version 20.2.4; however, version 21.0.1 is available.\n",
      "You should consider upgrading via the 'c:\\programdata\\anaconda3\\python.exe -m pip install --upgrade pip' command.\n"
     ]
    },
    {
     "name": "stdout",
     "output_type": "stream",
     "text": [
      "Requirement already satisfied: pyautogui in c:\\programdata\\anaconda3\\lib\\site-packages (0.9.52)\n",
      "Requirement already satisfied: pyscreeze>=0.1.21 in c:\\programdata\\anaconda3\\lib\\site-packages (from pyautogui) (0.1.26)\n",
      "Requirement already satisfied: mouseinfo in c:\\programdata\\anaconda3\\lib\\site-packages (from pyautogui) (0.1.3)\n",
      "Requirement already satisfied: PyTweening>=1.0.1 in c:\\programdata\\anaconda3\\lib\\site-packages (from pyautogui) (1.0.3)\n",
      "Requirement already satisfied: pymsgbox in c:\\programdata\\anaconda3\\lib\\site-packages (from pyautogui) (1.0.9)\n",
      "Requirement already satisfied: pygetwindow>=0.0.5 in c:\\programdata\\anaconda3\\lib\\site-packages (from pyautogui) (0.0.9)\n",
      "Requirement already satisfied: Pillow>=6.2.1; python_version == \"3.8\" in c:\\programdata\\anaconda3\\lib\\site-packages (from pyscreeze>=0.1.21->pyautogui) (7.2.0)\n",
      "Requirement already satisfied: pyperclip in c:\\programdata\\anaconda3\\lib\\site-packages (from mouseinfo->pyautogui) (1.8.1)\n",
      "Requirement already satisfied: pyrect in c:\\programdata\\anaconda3\\lib\\site-packages (from pygetwindow>=0.0.5->pyautogui) (0.1.4)\n"
     ]
    }
   ],
   "source": [
    "!pip install pyautogui\n",
    "#Installing pyautogui it is used to programmatically control the mouse & keyboard\n",
    "\n",
    "from sklearn.model_selection import train_test_split  #importing  train_test_split from sklearn model and splitting data test and train data\n",
    "\n",
    "import pandas as pd   #importing pandas library for data manipulation and analysis\n",
    "\n",
    "import numpy as np    #importing numpy library to deal with array operation\n",
    "\n",
    "import math         #importing math library for using mathematical function\n",
    "\n",
    "import matplotlib.pyplot as plt  #importing matplotlib.pyplot library for data visualization\n",
    "\n",
    "from sklearn.feature_extraction.text import CountVectorizer    #importing countvectorizer it is used to convert a collection of text documents to a vector of token form\n",
    "\n",
    "from sklearn.linear_model import LogisticRegression         #importing logistic regression it is used to fit the model on the train set and perform prediction on test set\n",
    "\n",
    "import pyautogui"
   ]
  },
  {
   "cell_type": "code",
   "execution_count": 2,
   "metadata": {},
   "outputs": [
    {
     "data": {
      "text/html": [
       "<div>\n",
       "<style scoped>\n",
       "    .dataframe tbody tr th:only-of-type {\n",
       "        vertical-align: middle;\n",
       "    }\n",
       "\n",
       "    .dataframe tbody tr th {\n",
       "        vertical-align: top;\n",
       "    }\n",
       "\n",
       "    .dataframe thead th {\n",
       "        text-align: right;\n",
       "    }\n",
       "</style>\n",
       "<table border=\"1\" class=\"dataframe\">\n",
       "  <thead>\n",
       "    <tr style=\"text-align: right;\">\n",
       "      <th></th>\n",
       "      <th>0</th>\n",
       "      <th>1</th>\n",
       "    </tr>\n",
       "  </thead>\n",
       "  <tbody>\n",
       "    <tr>\n",
       "      <th>0</th>\n",
       "      <td>Introduction to python</td>\n",
       "      <td>1</td>\n",
       "    </tr>\n",
       "    <tr>\n",
       "      <th>1</th>\n",
       "      <td>Basics of Python</td>\n",
       "      <td>1</td>\n",
       "    </tr>\n",
       "    <tr>\n",
       "      <th>2</th>\n",
       "      <td>Adavanced Python</td>\n",
       "      <td>1</td>\n",
       "    </tr>\n",
       "    <tr>\n",
       "      <th>3</th>\n",
       "      <td>Python for AI</td>\n",
       "      <td>1</td>\n",
       "    </tr>\n",
       "    <tr>\n",
       "      <th>4</th>\n",
       "      <td>Python basics</td>\n",
       "      <td>1</td>\n",
       "    </tr>\n",
       "  </tbody>\n",
       "</table>\n",
       "</div>"
      ],
      "text/plain": [
       "                        0  1\n",
       "0  Introduction to python  1\n",
       "1        Basics of Python  1\n",
       "2        Adavanced Python  1\n",
       "3           Python for AI  1\n",
       "4           Python basics  1"
      ]
     },
     "execution_count": 2,
     "metadata": {},
     "output_type": "execute_result"
    }
   ],
   "source": [
    "data = pd.read_csv(\"course.csv\",encoding = 'ISO-8859-1',header=None) #Reading the data from course.csv\n",
    "#data.rename(columns={0: \"target\", 1: \"ids\", 2: \"date\",3:'flag',4:'user',5:'text'},inplace=True)\n",
    "data.head(5)  #display first 5 rows"
   ]
  },
  {
   "cell_type": "code",
   "execution_count": 3,
   "metadata": {},
   "outputs": [
    {
     "name": "stdout",
     "output_type": "stream",
     "text": [
      "\n"
     ]
    }
   ],
   "source": [
    "x=data[0].values   #x will contain feature data values\n",
    "y=data[1].values   #y will contain labels(output) values\n",
    "print()"
   ]
  },
  {
   "cell_type": "code",
   "execution_count": 4,
   "metadata": {},
   "outputs": [],
   "source": [
    "x_train,x_test,y_train,y_test=train_test_split(x,y,test_size=0.2,random_state=0)   #spliting data arrays into 2 subset 1.training data 2.testing data and making testing data size=0.2"
   ]
  },
  {
   "cell_type": "code",
   "execution_count": 5,
   "metadata": {},
   "outputs": [
    {
     "name": "stdout",
     "output_type": "stream",
     "text": [
      "(1120,)\n",
      "(280,)\n",
      "(1120,)\n",
      "(280,)\n"
     ]
    }
   ],
   "source": [
    "print(np.shape(x_train))  #display size of x_train\n",
    "print(np.shape(x_test))   #display size of x_test\n",
    "print(np.shape(y_train))  #display size of y_train\n",
    "print(np.shape(y_test))    #display size of y_test"
   ]
  },
  {
   "cell_type": "code",
   "execution_count": 6,
   "metadata": {},
   "outputs": [
    {
     "name": "stdout",
     "output_type": "stream",
     "text": [
      "['Introduction to python' 'Basics of Python' 'Adavanced Python' ...\n",
      " 'devops ,jenkins,puppet,nagios' 'devops training,devops azure'\n",
      " 'devops for sap']\n"
     ]
    }
   ],
   "source": [
    "x_train[0]  #Accesing the x_train index value 0\n",
    "\n",
    "print(x)"
   ]
  },
  {
   "cell_type": "code",
   "execution_count": 7,
   "metadata": {},
   "outputs": [],
   "source": [
    "#x=train_data['x'].values\n",
    "vectorizer = CountVectorizer()  #Initialize the class\n",
    "vectorizer.fit(x_train)          #the feature data of x_train is fitted for convertion from text to value\n",
    "X_train = vectorizer.transform(x_train) #for each text in dataset an input value(feature) a vector token value will be generated\n",
    "X_test = vectorizer.transform(x_test)  #for each text in dataset an output value(label) a vector token value will be generated"
   ]
  },
  {
   "cell_type": "code",
   "execution_count": 8,
   "metadata": {},
   "outputs": [
    {
     "name": "stdout",
     "output_type": "stream",
     "text": [
      "(1120, 55)\n"
     ]
    }
   ],
   "source": [
    "print(np.shape(X_train))   #size of the x_train"
   ]
  },
  {
   "cell_type": "code",
   "execution_count": 9,
   "metadata": {},
   "outputs": [
    {
     "data": {
      "text/plain": [
       "LogisticRegression()"
      ]
     },
     "execution_count": 9,
     "metadata": {},
     "output_type": "execute_result"
    }
   ],
   "source": [
    "#Y_train=train_data['y'].values\n",
    "classifier = LogisticRegression()  #It is used to find correct theta values and find the relation between feature and labels\n",
    "classifier.fit(X_train,y_train)   #now x_train and y_train can be fitted by LogisticRegression method"
   ]
  },
  {
   "cell_type": "code",
   "execution_count": 10,
   "metadata": {},
   "outputs": [
    {
     "name": "stdout",
     "output_type": "stream",
     "text": [
      "Train accuracy:100.0 \n",
      "Test accuracy:100.0 \n"
     ]
    }
   ],
   "source": [
    "score1 = classifier.score(X_train, y_train)  #classifier.score is a method which is used to check the accuracy of train data\n",
    "score = classifier.score(X_test, y_test)      #The model which was trained now it need to be test by predicting the correct theta values and classifier.score used to check the accuracy of test data\n",
    "print('Train accuracy:{} \\nTest accuracy:{} ' .format((score1*100),(score*100))) "
   ]
  },
  {
   "cell_type": "markdown",
   "metadata": {},
   "source": [
    "\n",
    "#### SVM"
   ]
  },
  {
   "cell_type": "code",
   "execution_count": 11,
   "metadata": {},
   "outputs": [
    {
     "data": {
      "text/plain": [
       "SVC(gamma='auto')"
      ]
     },
     "execution_count": 11,
     "metadata": {},
     "output_type": "execute_result"
    }
   ],
   "source": [
    "from sklearn.svm import SVC  #It is used to build and train the model svm stands for support vector machine\n",
    "rf=SVC(gamma='auto')       #Intialize SVC\n",
    "rf.fit(X_train,y_train)   #"
   ]
  },
  {
   "cell_type": "markdown",
   "metadata": {},
   "source": [
    "#### Own Testing"
   ]
  },
  {
   "cell_type": "code",
   "execution_count": 12,
   "metadata": {},
   "outputs": [],
   "source": [
    "sent=np.array(['python'])              #Testing the data \n",
    "sent1=np.array(['how to learn python in 1 week'])  "
   ]
  },
  {
   "cell_type": "code",
   "execution_count": 13,
   "metadata": {},
   "outputs": [
    {
     "name": "stdout",
     "output_type": "stream",
     "text": [
      "  (0, 40)\t1\n"
     ]
    }
   ],
   "source": [
    "test_sent= vectorizer.transform(sent)  #converstion\n",
    "result=rf.predict(test_sent)       #predicting\n",
    "result  \n",
    "print(test_sent)"
   ]
  },
  {
   "cell_type": "markdown",
   "metadata": {},
   "source": [
    "#### KNN"
   ]
  },
  {
   "cell_type": "code",
   "execution_count": 14,
   "metadata": {},
   "outputs": [
    {
     "data": {
      "text/plain": [
       "KNeighborsClassifier()"
      ]
     },
     "execution_count": 14,
     "metadata": {},
     "output_type": "execute_result"
    }
   ],
   "source": [
    "from sklearn.neighbors import KNeighborsClassifier  #\n",
    "knn=KNeighborsClassifier()                           \n",
    "knn.fit(X_train,y_train)                              "
   ]
  },
  {
   "cell_type": "code",
   "execution_count": 15,
   "metadata": {},
   "outputs": [
    {
     "data": {
      "text/plain": [
       "array([1], dtype=int64)"
      ]
     },
     "execution_count": 15,
     "metadata": {},
     "output_type": "execute_result"
    }
   ],
   "source": [
    "test_sent= vectorizer.transform(sent1)  #\n",
    "result=knn.predict(test_sent)            #\n",
    "result                                    #"
   ]
  },
  {
   "cell_type": "code",
   "execution_count": null,
   "metadata": {},
   "outputs": [
    {
     "name": "stdout",
     "output_type": "stream",
     "text": [
      " * Serving Flask app \"__main__\" (lazy loading)\n",
      " * Environment: production\n",
      "   WARNING: This is a development server. Do not use it in a production deployment.\n",
      "   Use a production WSGI server instead.\n",
      " * Debug mode: off\n"
     ]
    },
    {
     "name": "stderr",
     "output_type": "stream",
     "text": [
      " * Running on http://127.0.0.1:5000/ (Press CTRL+C to quit)\n",
      "127.0.0.1 - - [14/Apr/2021 09:43:55] \"\u001b[37mGET / HTTP/1.1\u001b[0m\" 200 -\n",
      "127.0.0.1 - - [14/Apr/2021 09:43:56] \"\u001b[33mGET /favicon.ico HTTP/1.1\u001b[0m\" 404 -\n",
      "127.0.0.1 - - [14/Apr/2021 09:44:02] \"\u001b[37mPOST /table HTTP/1.1\u001b[0m\" 200 -\n"
     ]
    },
    {
     "name": "stdout",
     "output_type": "stream",
     "text": [
      "java\n",
      "[2] ['java']\n"
     ]
    }
   ],
   "source": [
    "from flask import Flask, redirect, url_for, render_template, request, session,flash  #\n",
    "app = Flask(__name__, static_folder='')   #\n",
    "#@app.route('/')\n",
    "#def json():\n",
    "    #return render_template('search1.html')\n",
    "@app.route('/')        #\n",
    "def home():             #\n",
    "    return render_template('table.html') #\n",
    "\n",
    "\n",
    "@app.route(\"/table\", methods=['POST'])  #\n",
    "def table():                             #\n",
    "    \n",
    "    #to_predict = np.array(to_predict_list).reshape(1, 12)  \n",
    "    #result = classifier.predict(X_test) \n",
    "    #result = request.form(result[text])\n",
    "    #print(result)\n",
    "    #if result[0]==1:\n",
    "        #prediction='python' \n",
    "    #elif result[0]==2:\n",
    "        #prediction ='java'\n",
    "    \n",
    "    \n",
    "    forward_message = request.form['text']     #\n",
    "    \n",
    "    print(forward_message)                          #\n",
    "    forward_message = np.array([forward_message])    #  \n",
    "    test_sent= vectorizer.transform(forward_message)  #\n",
    "    result=rf.predict(test_sent)                       #\n",
    "    print(result, forward_message)                      #\n",
    "    if result[0]==1:                                     #                         \n",
    "        output ='Python for everybody'                     \n",
    "        output2 ='python basics'                           \n",
    "        output3 = 'python for datascience and AI '          \n",
    "        output4 ='Crash course on python'                    \n",
    "        output5='python: '                               \n",
    "        link5 = 'https://www.coursera.org/search?query=python&'\n",
    "        link1 = 'https://www.coursera.org/specializations/python?='\n",
    "        link2 = 'https://www.coursera.org/learn/python-basics'\n",
    "        link3 ='https://www.coursera.org/learn/python-for-applied-data-science-ai'\n",
    "        link4 = 'https://www.coursera.org/learn/python-crash-course'\n",
    "    elif result[0]==2:                #\n",
    "        output ='Java Programming and Software Engineering Fundamentals Specialization'\n",
    "        output2 ='Object Oriented Programming in Java Specialization'\n",
    "        output3 = 'Build a Simple App in Android Studio with Java'\n",
    "        output4 ='Java Programming: Solving Problems with Software'\n",
    "        output5 ='Java'\n",
    "        link5='https://www.coursera.org/learn/introduccion-java'\n",
    "        link1='https://www.coursera.org/specializations/java-programming'\n",
    "        link2='https://www.coursera.org/specializations/object-oriented-programming'\n",
    "        link3='https://www.coursera.org/projects/build-app-android-studio-java'\n",
    "        link4='https://www.coursera.org/learn/java-programming'\n",
    "    elif result[0]==3:              #\n",
    "        output ='IBM Data Science'\n",
    "        output2 ='Data Science Specialization'\n",
    "        output3 = 'Master of Science in Data Science'\n",
    "        output4 ='Data Science: Foundations using R Specialization'\n",
    "        output5 ='DataScience'\n",
    "        link5 ='https://www.coursera.org/specializations/introduction-data-science'\n",
    "        link1='https://www.coursera.org/professional-certificates/ibm-data-science'\n",
    "        link2='https://www.coursera.org/specializations/jhu-data-science'\n",
    "        link3='https://www.coursera.org/degrees/master-of-science-data-science-boulder'\n",
    "        link4='https://www.coursera.org/specializations/data-science-foundations-r'\n",
    "    elif result[0]==4:                  #\n",
    "        output ='Microsoft SQL for Beginners'\n",
    "        output2 ='SQL for Data Analytics'\n",
    "        output3 = 'Basic Oracle SQL'\n",
    "        output4 ='Basic to Advanced MySQL Queries'\n",
    "        output5 ='SQL'\n",
    "        \n",
    "        link5='https://www.udemy.com/course/learn-basic-sql-with-sql-server-2019-express/'\n",
    "        link1='https://www.udemy.com/course/microsoft-sql-for-beginners-sql-server-and-t-sql/'\n",
    "        link2='https://www.udemy.com/course/the-complete-sql-masterclass-for-data-analytics/'\n",
    "        link3='https://www.udemy.com/course/oracle-database-12c-basic-sql-hand-on-step-by-step/'\n",
    "        link4='https://www.udemy.com/course/advanced-mysql-queries/'\n",
    "    elif result[0]==5:                  #\n",
    "        output ='Docker Mastery'\n",
    "        output2='Docker for the Absolute Beginner'\n",
    "        output3='Ansible for the Absolute Beginner - Hands-On - DevOps'\n",
    "        output4='Docker Crash Course for busy DevOps and Developers'\n",
    "        output5='DevOps'\n",
    "        link5='https://www.udemy.com/course/learn-devops/'\n",
    "        link1='https://www.udemy.com/course/learn-docker/'\n",
    "        link2='https://www.udemy.com/course/learn-ansible/'\n",
    "        link3='https://www.udemy.com/course/docker-tutorial-for-devops-run-docker-containers/'\n",
    "        link4='udemy.com/course/docker-mastery/'\n",
    "\n",
    "    \n",
    "    return render_template('table.html', forward_message=output, forward_message2 = output2,forward_message3=output3,forward_message4=output4,forward_message5=output5, \n",
    "                           forward_msg5_link = link5,forward_msg5_link1 = link1,forward_msg5_link2 = link2,forward_msg5_link3 = link3,forward_msg5_link4 = link4,)   #\n",
    "\n",
    "\n",
    "\n",
    "if __name__ == '__main__':    #\n",
    "    app.run()                  #"
   ]
  },
  {
   "cell_type": "code",
   "execution_count": null,
   "metadata": {},
   "outputs": [],
   "source": []
  },
  {
   "cell_type": "code",
   "execution_count": null,
   "metadata": {},
   "outputs": [],
   "source": []
  }
 ],
 "metadata": {
  "kernelspec": {
   "display_name": "Python 3",
   "language": "python",
   "name": "python3"
  },
  "language_info": {
   "codemirror_mode": {
    "name": "ipython",
    "version": 3
   },
   "file_extension": ".py",
   "mimetype": "text/x-python",
   "name": "python",
   "nbconvert_exporter": "python",
   "pygments_lexer": "ipython3",
   "version": "3.8.3"
  }
 },
 "nbformat": 4,
 "nbformat_minor": 2
}
